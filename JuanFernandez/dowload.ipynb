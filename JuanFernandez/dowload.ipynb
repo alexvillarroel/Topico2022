{
 "cells": [
  {
   "cell_type": "code",
   "execution_count": 110,
   "metadata": {},
   "outputs": [],
   "source": [
    "from obspy.core import read, UTCDateTime\n",
    "from obspy.clients.fdsn import Client\n",
    "import numpy as np\n",
    "client=Client('IRIS')\n",
    "network='C1'\n",
    "station='VA04'\n",
    "channel='BH*'\n",
    "day=range(1,366,1)\n",
    "for i in day:\n",
    "    time=(UTCDateTime(year=2015, julday=i))\n",
    "    folder=str(time)[0:10]\n",
    "    file=folder+'.mseed'\n",
    "    try:\n",
    "        data=client.get_waveforms(network,station,'*',channel,time\n",
    "        ,time+24*60*60).write(file,format='MSEED')\n",
    "    except Exception:\n",
    "        print('no existe data para la fecha '+folder)\n",
    "        continue\n",
    "    else:\n",
    "        !mkdir $folder | mv $file $folder/\n"
   ]
  }
 ],
 "metadata": {
  "kernelspec": {
   "display_name": "Python 3.10.6 64-bit",
   "language": "python",
   "name": "python3"
  },
  "language_info": {
   "codemirror_mode": {
    "name": "ipython",
    "version": 3
   },
   "file_extension": ".py",
   "mimetype": "text/x-python",
   "name": "python",
   "nbconvert_exporter": "python",
   "pygments_lexer": "ipython3",
   "version": "3.10.6"
  },
  "orig_nbformat": 4,
  "vscode": {
   "interpreter": {
    "hash": "e7370f93d1d0cde622a1f8e1c04877d8463912d04d973331ad4851f04de6915a"
   }
  }
 },
 "nbformat": 4,
 "nbformat_minor": 2
}
